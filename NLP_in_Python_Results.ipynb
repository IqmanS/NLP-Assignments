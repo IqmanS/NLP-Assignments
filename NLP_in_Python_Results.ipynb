{
  "nbformat": 4,
  "nbformat_minor": 0,
  "metadata": {
    "colab": {
      "provenance": [],
      "authorship_tag": "ABX9TyN8iZVvw/GsKAbfW2CIR4Dp",
      "include_colab_link": true
    },
    "kernelspec": {
      "name": "python3",
      "display_name": "Python 3"
    },
    "language_info": {
      "name": "python"
    }
  },
  "cells": [
    {
      "cell_type": "markdown",
      "metadata": {
        "id": "view-in-github",
        "colab_type": "text"
      },
      "source": [
        "<a href=\"https://colab.research.google.com/github/IqmanS/NLP-Assignments/blob/main/NLP_in_Python_Results.ipynb\" target=\"_parent\"><img src=\"https://colab.research.google.com/assets/colab-badge.svg\" alt=\"Open In Colab\"/></a>"
      ]
    },
    {
      "cell_type": "code",
      "source": [
        "import pandas as pd\n",
        "import numpy as np"
      ],
      "metadata": {
        "id": "4uQeeVdVZ7EV"
      },
      "execution_count": 7,
      "outputs": []
    },
    {
      "cell_type": "code",
      "execution_count": 8,
      "metadata": {
        "id": "DYE9SZUZZsz4"
      },
      "outputs": [],
      "source": [
        "!wget https://github.com/IqmanS/NLP-Assignments/raw/main/data/dtm.pkl -q\n",
        "!wget https://github.com/IqmanS/NLP-Assignments/raw/main/data/cv.pkl -q\n",
        "!wget https://github.com/IqmanS/NLP-Assignments/raw/main/data/data_clean.pkl -q\n",
        "!wget https://github.com/IqmanS/NLP-Assignments/raw/main/data/corpus.pkl -q"
      ]
    },
    {
      "cell_type": "code",
      "source": [
        "corpus = pd.read_pickle(\"/content/corpus.pkl\")\n",
        "data_clean = pd.read_pickle(\"/content/data_clean.pkl\")"
      ],
      "metadata": {
        "id": "Z-yIwgf0Z6d5"
      },
      "execution_count": 9,
      "outputs": []
    },
    {
      "cell_type": "markdown",
      "source": [
        "# **NLP IN PYTHON CONCLUSIONS**\n",
        "\n",
        "1. No of Comedians: 23\n",
        "1. Hasan Minhaj had least no of unique words at 941 and min words per minute at 29.048387.\n",
        "2. Dylan Moran had max no of unique words at 2012.\n",
        "3. Kathleen Madigan had max words per minute at 88.183333.\n",
        "4. Kevin Hart used a lot of 'S-word' and Bill Burr used a lot of 'F-word'\n",
        "5. Joe Rogan used both 'S-word' and 'F-word' alot\n",
        "5. Trevor Noah & Hasan Minaj had min profanity out of all 23 comeadians. (ie had clean humor)\n",
        "6. Kevin Hart & Bill Burr had more Male-gendered vocabulary like man, dude, guy, etc.\n",
        "7. Most Negetive out of 23: Lewis Black\n",
        "8. Most Positive out of 23: Beth Sterling\n",
        "9. Most Opinionated: Pete Davidson\n",
        "10. Most Factual: Beth Sterling\n",
        "11. Worst Comedian (Negetive & Opinionated): Pete Davidson\n",
        "12. Best Comedian (Postive & Factual): Beth Sterling\n",
        "13. Profanity like F-Word and S-Word, Guns, Girls and Dogs were the most common topics of the 23 Comedians"
      ],
      "metadata": {
        "id": "cuoDEp15atXh"
      }
    }
  ]
}